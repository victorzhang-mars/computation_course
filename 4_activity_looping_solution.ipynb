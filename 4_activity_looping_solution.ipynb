{
  "nbformat": 4,
  "nbformat_minor": 0,
  "metadata": {
    "kernelspec": {
      "display_name": "Python 3",
      "language": "python",
      "name": "python3"
    },
    "language_info": {
      "codemirror_mode": {
        "name": "ipython",
        "version": 3
      },
      "file_extension": ".py",
      "mimetype": "text/x-python",
      "name": "python",
      "nbconvert_exporter": "python",
      "pygments_lexer": "ipython3",
      "version": "3.8.3"
    },
    "toc": {
      "base_numbering": 1,
      "nav_menu": {},
      "number_sections": false,
      "sideBar": false,
      "skip_h1_title": false,
      "title_cell": "Table of Contents",
      "title_sidebar": "Contents",
      "toc_cell": true,
      "toc_position": {},
      "toc_section_display": true,
      "toc_window_display": false
    },
    "colab": {
      "name": "Copy of activity_looping_prompts.ipynb",
      "provenance": [],
      "include_colab_link": true
    }
  },
  "cells": [
    {
      "cell_type": "markdown",
      "metadata": {
        "id": "view-in-github",
        "colab_type": "text"
      },
      "source": [
        "<a href=\"https://colab.research.google.com/github/victorzhang-mars/computation_course/blob/master/4_activity_looping_solution.ipynb\" target=\"_parent\"><img src=\"https://colab.research.google.com/assets/colab-badge.svg\" alt=\"Open In Colab\"/></a>"
      ]
    },
    {
      "cell_type": "markdown",
      "metadata": {
        "id": "IeQAH4utpl9Q",
        "colab_type": "text"
      },
      "source": [
        "Instructions\n",
        "--------\n",
        "\n",
        "- __First thing__ - Change the name of this file to avoid a [merge conflict](https://docs.github.com/en/github/getting-started-with-github/github-glossary#merge-conflict) with GitHub.\n",
        "- You should type every character for the following activities. \n",
        "- Work together with your peers in the same shared code environment. The following environments allow the importation of Jupyter Notebook from GitHub urls -\n",
        "    - [Google Colab](https://colab.research.google.com)\n",
        "    - [Deepnote](https://deepnote.com/)\n",
        "- These activities are not graded.\n",
        "- They are open resource - feel free to reference documentation, books, videos, and any other resource.\n",
        "- Attempt each problem. If stuck, move onto next one and come back to a difficult problem.\n",
        "- During class:\n",
        "    - Brian will bounce between breakout rooms. Feel free to ask questions or just ignore him.\n",
        "    - After your group has finished, leave your breakout room and return to the main room."
      ]
    },
    {
      "cell_type": "markdown",
      "metadata": {
        "toc": true,
        "id": "z3r9nW6Vpl9O",
        "colab_type": "text"
      },
      "source": [
        "<h1>Table of Contents<span class=\"tocSkip\"></span></h1>\n",
        "<div class=\"toc\"><ul class=\"toc-item\"><li><span><a href=\"#Instructions\" data-toc-modified-id=\"Instructions-1\">Instructions</a></span></li><li><span><a href=\"#Refactor-a-for-loop-as-a-while-loop\" data-toc-modified-id=\"Refactor-a-for-loop-as-a-while-loop-2\">Refactor a for-loop as a while loop</a></span></li><li><span><a href=\"#Refactor-the-following-to-use-Python-idioms-\" data-toc-modified-id=\"Refactor-the-following-to-use-Python-idioms--3\">Refactor the following to use Python idioms </a></span></li><li><span><a href=\"#Write-Horner's-method-for-polyminal-root-finding\" data-toc-modified-id=\"Write-Horner's-method-for-polyminal-root-finding-4\">Write Horner's method for polyminal root finding</a></span></li><li><span><a href=\"#Find-argmax\" data-toc-modified-id=\"Find-argmax-5\">Find argmax</a></span></li><li><span><a href=\"#Find-the-leading-(most-significant)-digit-without-converting-the-type.\" data-toc-modified-id=\"Find-the-leading-(most-significant)-digit-without-converting-the-type.-6\">Find the leading (most significant) digit without converting the type.</a></span></li></ul></div>"
      ]
    },
    {
      "cell_type": "code",
      "metadata": {
        "id": "360wCggppl9S",
        "colab_type": "code",
        "colab": {}
      },
      "source": [
        "reset -fs"
      ],
      "execution_count": null,
      "outputs": []
    },
    {
      "cell_type": "markdown",
      "metadata": {
        "id": "Csa1m4mHpl9Y",
        "colab_type": "text"
      },
      "source": [
        "Refactor a for-loop as a while loop\n",
        "-----\n",
        "\n",
        "Refactoring is the process of changing will keeping the output the same.\n",
        "\n",
        "Hopefully, the changes make the code more readable, more extensible, or faster."
      ]
    },
    {
      "cell_type": "code",
      "metadata": {
        "id": "xjThnirgpl9a",
        "colab_type": "code",
        "colab": {},
        "outputId": "f3deaf11-701f-468c-e179-fc465b68931d"
      },
      "source": [
        "for count_down in range(5, 0, -1):\n",
        "    print(count_down)\n",
        "else:\n",
        "    print(\"Blastoff 🚀\")"
      ],
      "execution_count": null,
      "outputs": [
        {
          "output_type": "stream",
          "text": [
            "5\n",
            "4\n",
            "3\n",
            "2\n",
            "1\n",
            "Blastoff 🚀\n"
          ],
          "name": "stdout"
        }
      ]
    },
    {
      "cell_type": "code",
      "metadata": {
        "id": "uvLUKoEZp6oQ",
        "colab_type": "code",
        "colab": {}
      },
      "source": [
        ""
      ],
      "execution_count": null,
      "outputs": []
    },
    {
      "cell_type": "code",
      "metadata": {
        "id": "MiDHRvhRpl9h",
        "colab_type": "code",
        "colab": {}
      },
      "source": [
        ""
      ],
      "execution_count": null,
      "outputs": []
    },
    {
      "cell_type": "markdown",
      "metadata": {
        "id": "1ev9JAZ6pl9m",
        "colab_type": "text"
      },
      "source": [
        "Refactor the following to use Python idioms \n",
        "----\n",
        "\n",
        "One of my mantra's is \"Let Python do the work\"\n",
        "\n",
        "Improve each of the following by better leveraging Python idioms."
      ]
    },
    {
      "cell_type": "code",
      "metadata": {
        "id": "f-J7tkVUpl9m",
        "colab_type": "code",
        "colab": {},
        "outputId": "a7e48958-1881-4398-8f73-fb04fe2c7154"
      },
      "source": [
        "# Looping over a range of numbers\n",
        "for i in [0, 1, 2, 3, 4, 5]:\n",
        "    print(i**2)\n",
        "    \n",
        "# Looping over a sequence\n",
        "rainbow_colors = [\"red\", \"orange\", \"yellow\", \n",
        "                  \"green\", \"blue\", \"indigo\", \"violet\",]\n",
        "\n",
        "for i in range(len(rainbow_colors)):\n",
        "    print(rainbow_colors[i])\n",
        "    \n",
        "# Looping backwards\n",
        "for i in range(len(rainbow_colors)-1, -1, -1):\n",
        "    print(rainbow_colors[i])\n",
        "\n",
        "# Looping over a collection and indices\n",
        "for i in range(len(rainbow_colors)):\n",
        "    print(i, '--->', rainbow_colors[i])\n",
        "    \n",
        "# Distinguishing multiple exit points in loops\n",
        "# Refactor to remove `found` variable, it is not needed\n",
        "def find(sequence, target):\n",
        "    \"Linear search of a sequence\"\n",
        "    found = False\n",
        "    for i, value in enumerate(sequence):\n",
        "        if value == target:\n",
        "            found = True\n",
        "            break\n",
        "    if not found:\n",
        "        return \"not found\"\n",
        "    return 1\n",
        "\n",
        "assert find('abc', 'b') == 1\n",
        "assert find('abc', 'z') == \"not found\""
      ],
      "execution_count": null,
      "outputs": [
        {
          "output_type": "stream",
          "text": [
            "0\n",
            "1\n",
            "4\n",
            "9\n",
            "16\n",
            "25\n",
            "red\n",
            "orange\n",
            "yellow\n",
            "green\n",
            "blue\n",
            "indigo\n",
            "violet\n",
            "violet\n",
            "indigo\n",
            "blue\n",
            "green\n",
            "yellow\n",
            "orange\n",
            "red\n",
            "0 ---> red\n",
            "1 ---> orange\n",
            "2 ---> yellow\n",
            "3 ---> green\n",
            "4 ---> blue\n",
            "5 ---> indigo\n",
            "6 ---> violet\n"
          ],
          "name": "stdout"
        }
      ]
    },
    {
      "cell_type": "code",
      "metadata": {
        "id": "a1dbjxNWpl9q",
        "colab_type": "code",
        "colab": {}
      },
      "source": [
        ""
      ],
      "execution_count": null,
      "outputs": []
    },
    {
      "cell_type": "markdown",
      "metadata": {
        "id": "5ADDnOI7pl9t",
        "colab_type": "text"
      },
      "source": [
        "Write Horner's method for polyminal root finding\n",
        "-----\n",
        "\n",
        "Write a function that calculates the value of a polynomial.\n",
        "\n",
        "The function will take in a sequence of coefficients for a polynomial in order of increasing powers of x and a value for x.\n",
        "\n",
        "Use [Horner's method](https://en.wikipedia.org/wiki/Horner%27s_method).\n",
        "\n",
        "-----\n",
        "\n",
        "If the polynomial is:\n",
        "\n",
        "$$-19 + 7x - 4x^2 + 6x^3$$\n",
        "\n",
        "and if $x=3$, the solution is 128\n",
        "\n",
        "-----\n",
        "\n",
        "Do not import anything else."
      ]
    },
    {
      "cell_type": "code",
      "metadata": {
        "id": "g1R2nzeipl9t",
        "colab_type": "code",
        "colab": {}
      },
      "source": [
        "from typing import Sequence\n",
        "\n",
        "def horner(coefficients: Sequence[int], x: float) -> float:\n",
        "    \"Horner's method evaluating a polynomial of coefficients.\"\n",
        "    \n",
        "    pass # TODO: Delete pass and write your code.\n",
        " \n",
        "def test_horner(horner):\n",
        "    \n",
        "    assert horner((-19, 7, -4, 6), 3)           == 128\n",
        "    assert horner((-19, 7, -4, 6), 4.5)         == 478.25\n",
        "    assert horner((-19, 7, -4, 6, 0, 0, 4), 3)  == 3_044\n",
        "    \n",
        "    return \"All tests pass 🙂\"\n",
        "    \n",
        "# test_horner(horner)"
      ],
      "execution_count": null,
      "outputs": []
    },
    {
      "cell_type": "code",
      "metadata": {
        "code_folding": [],
        "id": "zriXerpXpl9w",
        "colab_type": "code",
        "colab": {}
      },
      "source": [
        ""
      ],
      "execution_count": null,
      "outputs": []
    },
    {
      "cell_type": "markdown",
      "metadata": {
        "id": "BDAuTtSepl9y",
        "colab_type": "text"
      },
      "source": [
        "Find argmax\n",
        "------\n",
        "\n",
        "Write a for-loop to find the `argmax` of `[-1, 8, 3]`\n",
        "\n",
        "`argmax` is index of the maximum value for numeric sequence. \n",
        "\n",
        "The answer is `1`. \n",
        "\n",
        "`8` is the largest value and it's in the second place / computer index of `1`.\n",
        "\n",
        "Do not import anything else."
      ]
    },
    {
      "cell_type": "code",
      "metadata": {
        "id": "Rov_o1-qpl9y",
        "colab_type": "code",
        "colab": {}
      },
      "source": [
        "from typing import Sequence\n",
        "\n",
        "def my_arg_max(nums: Sequence[float]) -> int:\n",
        "    \n",
        "    pass # TODO: Delete pass and write your code.\n",
        " \n",
        "def test_my_arg_max(my_arg_max):\n",
        "    \n",
        "    assert my_arg_max([-1, 8, 3])           == 1\n",
        "    \n",
        "    return \"All tests pass 🙂\"\n",
        "    \n",
        "# test_my_arg_max(my_arg_max)"
      ],
      "execution_count": null,
      "outputs": []
    },
    {
      "cell_type": "code",
      "metadata": {
        "id": "F2b5FYzKpl91",
        "colab_type": "code",
        "colab": {}
      },
      "source": [
        ""
      ],
      "execution_count": null,
      "outputs": []
    },
    {
      "cell_type": "markdown",
      "metadata": {
        "id": "g4_pjhc9pl93",
        "colab_type": "text"
      },
      "source": [
        "Find the leading (most significant) digit without converting the type.\n",
        "----\n",
        "\n",
        "At no time change the type of the input to anything else, it should remain an integer the entire time.\n",
        "\n",
        "Write it with a `while` loop.\n",
        "\n",
        "Optional challenge - refactor to to use a [closed form solution](https://en.wikipedia.org/wiki/Closed-form_expression)"
      ]
    },
    {
      "cell_type": "code",
      "metadata": {
        "id": "1cRb2DOipl93",
        "colab_type": "code",
        "colab": {}
      },
      "source": [
        "def find_leading_digit(number: float) -> int:\n",
        "   \n",
        "    pass # TODO: Delete pass and write your code.\n",
        "\n",
        "def test_find_leading_digit(find_leading_digit):\n",
        "\n",
        "    assert find_leading_digit(1)           == 1 == int(str(1)[0])\n",
        "    assert find_leading_digit(42)          == 4 == int(str(42)[0])\n",
        "    assert find_leading_digit(42.42)       == 4 == int(str(42.42)[0])\n",
        "    assert find_leading_digit(1_234)       == 1 == int(str(1_234)[0])\n",
        "    assert find_leading_digit(98_7654_321) == 9 == int(str(98_7654_321)[0])\n",
        "    \n",
        "    return \"All tests pass 🙂\"\n",
        "\n",
        "# test_find_leading_digit(find_leading_digit)"
      ],
      "execution_count": null,
      "outputs": []
    },
    {
      "cell_type": "code",
      "metadata": {
        "id": "LVN0Fo4Upl95",
        "colab_type": "code",
        "colab": {}
      },
      "source": [
        ""
      ],
      "execution_count": null,
      "outputs": []
    },
    {
      "cell_type": "markdown",
      "metadata": {
        "id": "HadbIoPFpl97",
        "colab_type": "text"
      },
      "source": [
        "<br>\n",
        "<br> \n",
        "<br>\n",
        "\n",
        "----"
      ]
    }
  ]
}