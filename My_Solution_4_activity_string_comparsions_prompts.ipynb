{
  "nbformat": 4,
  "nbformat_minor": 0,
  "metadata": {
    "kernelspec": {
      "display_name": "Python 3",
      "language": "python",
      "name": "python3"
    },
    "language_info": {
      "codemirror_mode": {
        "name": "ipython",
        "version": 3
      },
      "file_extension": ".py",
      "mimetype": "text/x-python",
      "name": "python",
      "nbconvert_exporter": "python",
      "pygments_lexer": "ipython3",
      "version": "3.8.3"
    },
    "toc": {
      "base_numbering": 1,
      "nav_menu": {},
      "number_sections": false,
      "sideBar": false,
      "skip_h1_title": false,
      "title_cell": "Table of Contents",
      "title_sidebar": "Contents",
      "toc_cell": true,
      "toc_position": {},
      "toc_section_display": true,
      "toc_window_display": false
    },
    "colab": {
      "name": "Copy of 4_activity_string_comparsions_prompts.ipynb",
      "provenance": [],
      "include_colab_link": true
    }
  },
  "cells": [
    {
      "cell_type": "markdown",
      "metadata": {
        "id": "view-in-github",
        "colab_type": "text"
      },
      "source": [
        "<a href=\"https://colab.research.google.com/github/victorzhang-mars/computation_course/blob/master/My_Solution_4_activity_string_comparsions_prompts.ipynb\" target=\"_parent\"><img src=\"https://colab.research.google.com/assets/colab-badge.svg\" alt=\"Open In Colab\"/></a>"
      ]
    },
    {
      "cell_type": "markdown",
      "metadata": {
        "toc": true,
        "id": "llIe-Fj4V8af",
        "colab_type": "text"
      },
      "source": [
        "<h1>Table of Contents<span class=\"tocSkip\"></span></h1>\n",
        "<div class=\"toc\"><ul class=\"toc-item\"><li><span><a href=\"#Instructions\" data-toc-modified-id=\"Instructions-1\">Instructions</a></span></li><li><span><a href=\"#Boolean-Comparisons-Problems\" data-toc-modified-id=\"Boolean-Comparisons-Problems-2\">Boolean Comparisons Problems</a></span></li><li><span><a href=\"#If-Else-from-Hacker-Rank\" data-toc-modified-id=\"If-Else-from-Hacker-Rank-3\">If-Else from Hacker Rank</a></span></li><li><span><a href=\"#Bernoulli-Trial-Function\" data-toc-modified-id=\"Bernoulli-Trial-Function-4\">Bernoulli Trial Function</a></span></li><li><span><a href=\"#Conditional-Concatenation\" data-toc-modified-id=\"Conditional-Concatenation-5\">Conditional Concatenation</a></span></li><li><span><a href=\"#Find-The-Smallest-of-3-Numbers-Using-Conditional-Statements\" data-toc-modified-id=\"Find-The-Smallest-of-3-Numbers-Using-Conditional-Statements-6\">Find The Smallest of 3 Numbers Using Conditional Statements</a></span></li><li><span><a href=\"#Fizz-Buzz\" data-toc-modified-id=\"Fizz-Buzz-7\">Fizz Buzz</a></span></li></ul></div>"
      ]
    },
    {
      "cell_type": "markdown",
      "metadata": {
        "id": "3l4f30gcV8aj",
        "colab_type": "text"
      },
      "source": [
        "Instructions\n",
        "--------\n",
        "\n",
        "- __First thing__ - Change the name of this file to avoid a [merge conflict](https://docs.github.com/en/github/getting-started-with-github/github-glossary#merge-conflict) with GitHub.\n",
        "- You should type every character for the following activities. \n",
        "- Work together with your peers in the same shared code environment. The following environments allow the importation of Jupyter Notebook from GitHub urls -\n",
        "    - [Google Colab](https://colab.research.google.com)\n",
        "    - [Deepnote](https://deepnote.com/)\n",
        "- These activities are not graded.\n",
        "- They are open resource - feel free to reference documentation, books, videos, and any other resource.\n",
        "- Attempt each problem. If stuck, move onto next one and come back to a difficult problem.\n",
        "- During class:\n",
        "    - Brian will bounce between breakout rooms. Feel free to ask questions or just ignore him.\n",
        "    - After your group has finished, leave your breakout room and return to the main room."
      ]
    },
    {
      "cell_type": "code",
      "metadata": {
        "id": "sEF8jCygV8am",
        "colab_type": "code",
        "colab": {}
      },
      "source": [
        "reset -fs"
      ],
      "execution_count": null,
      "outputs": []
    },
    {
      "cell_type": "markdown",
      "metadata": {
        "id": "T38G7CS6V8a1",
        "colab_type": "text"
      },
      "source": [
        "Boolean Comparisons Problems\n",
        "------\n",
        "\n",
        "`True` or `False`?\n",
        "\n",
        "Write down your guesses. Then check with Python.\n",
        "\n",
        "```python\n",
        "(not True) == (1 >= 2)\n",
        "\n",
        "(42 == 42) == ('a' > 'z')\n",
        "```"
      ]
    },
    {
      "cell_type": "code",
      "metadata": {
        "id": "FFiLPVpIV8a1",
        "colab_type": "code",
        "colab": {}
      },
      "source": [
        ""
      ],
      "execution_count": null,
      "outputs": []
    },
    {
      "cell_type": "markdown",
      "metadata": {
        "id": "yxPAR1EgV8a7",
        "colab_type": "text"
      },
      "source": [
        "If-Else from Hacker Rank\n",
        "-----\n",
        "\n",
        "This is problem from Hank Rank, a coding platform like Leet Code.\n",
        "\n",
        "Given an integer, perform the following conditional actions:\n",
        "\n",
        "- If integer is odd, print \"Weird\"\n",
        "- If integer is even and in the inclusive range of 2 to 5 , print \"Not Weird\"\n",
        "- If integer is even and in the inclusive range of 6 to 20, print \"Weird\"\n",
        "- If integer is even and greater than 20, print \"Not Weird\"\n",
        "\n"
      ]
    },
    {
      "cell_type": "code",
      "metadata": {
        "id": "xnVEwvx9V8a8",
        "colab_type": "code",
        "colab": {
          "base_uri": "https://localhost:8080/",
          "height": 425
        },
        "outputId": "33f79e5b-a598-456c-c27a-b2de87a72468"
      },
      "source": [
        "for n in range(1, 25):\n",
        "    print(n, 'is', end=\" \")\n",
        "    \n",
        "    # TODO: Write your code here.\n",
        "    if n % 2 == 1:\n",
        "      print (\"Weird\")\n",
        "    else:\n",
        "      if 2<=n<=5:\n",
        "        print (\"Not Weird\")\n",
        "      if 6<=n<=20:\n",
        "        print ('Weird')\n",
        "      if n>20:\n",
        "        print(\"Not Weird\")\n",
        "    # The lines are smashed together. Once you add your print function, they will look okay."
      ],
      "execution_count": 2,
      "outputs": [
        {
          "output_type": "stream",
          "text": [
            "1 is Weird\n",
            "2 is Not Weird\n",
            "3 is Weird\n",
            "4 is Not Weird\n",
            "5 is Weird\n",
            "6 is Weird\n",
            "7 is Weird\n",
            "8 is Weird\n",
            "9 is Weird\n",
            "10 is Weird\n",
            "11 is Weird\n",
            "12 is Weird\n",
            "13 is Weird\n",
            "14 is Weird\n",
            "15 is Weird\n",
            "16 is Weird\n",
            "17 is Weird\n",
            "18 is Weird\n",
            "19 is Weird\n",
            "20 is Weird\n",
            "21 is Weird\n",
            "22 is Not Weird\n",
            "23 is Weird\n",
            "24 is Not Weird\n"
          ],
          "name": "stdout"
        }
      ]
    },
    {
      "cell_type": "code",
      "metadata": {
        "id": "6_qFesWRV8bD",
        "colab_type": "code",
        "colab": {}
      },
      "source": [
        "\n"
      ],
      "execution_count": null,
      "outputs": []
    },
    {
      "cell_type": "markdown",
      "metadata": {
        "id": "xWB3Upy1V8bJ",
        "colab_type": "text"
      },
      "source": [
        "Bernoulli Trial Function\n",
        "----\n",
        "\n",
        "Write a [Bernoulli trial function](https://en.wikipedia.org/wiki/Bernoulli_trial) for a coin flip that randomly returns \"heads\" or \"tails\".\n",
        "\n",
        "The function has a single argument `probability_heads`:\n",
        "\n",
        "`probability_heads = .5 ` is fair coin, equal chance of returning head or tails.  \n",
        "`probability_heads = 0  ` will never return heads.   \n",
        "`probability_heads = 1  ` will always return heads.   \n",
        "`probability_heads = .75` will return heads most of the time.   \n",
        "\n",
        "\n",
        "<br>\n",
        "<details><summary>\n",
        "Click here for a hint…\n",
        "</summary>\n",
        "`random() < prob_success`\n",
        "</details>"
      ]
    },
    {
      "cell_type": "code",
      "metadata": {
        "id": "A46FILzqV8bL",
        "colab_type": "code",
        "colab": {
          "base_uri": "https://localhost:8080/",
          "height": 37
        },
        "outputId": "567c9ba1-f8cb-4de2-ef51-4efb1fea0c9a"
      },
      "source": [
        "from random import random\n",
        "\n",
        "\n",
        "def coin_flip(probability_heads: float) -> str:\n",
        "\n",
        "    random_num = random()\n",
        "    if random_num < probability_heads:\n",
        "      return \"heads\"\n",
        "    else:\n",
        "      return \"tails\"\n",
        "    \n",
        "    \n",
        "\n",
        "def test_coin_flip(coin_flip):\n",
        "\n",
        "    assert coin_flip(probability_heads=0) == 'tails'\n",
        "    assert coin_flip(probability_heads=1) == 'heads'\n",
        "    assert coin_flip(probability_heads=.33) in {'tails', 'heads'}\n",
        "    \n",
        "    return \"All tests pass 🙂\"\n",
        "\n",
        "test_coin_flip(coin_flip)"
      ],
      "execution_count": 8,
      "outputs": [
        {
          "output_type": "execute_result",
          "data": {
            "application/vnd.google.colaboratory.intrinsic+json": {
              "type": "string"
            },
            "text/plain": [
              "'All tests pass 🙂'"
            ]
          },
          "metadata": {
            "tags": []
          },
          "execution_count": 8
        }
      ]
    },
    {
      "cell_type": "code",
      "metadata": {
        "id": "BFcSobx5V8bQ",
        "colab_type": "code",
        "colab": {}
      },
      "source": [
        ""
      ],
      "execution_count": null,
      "outputs": []
    },
    {
      "cell_type": "markdown",
      "metadata": {
        "id": "-BZ8699cV8bf",
        "colab_type": "text"
      },
      "source": [
        "Conditional Concatenation\n",
        "-----\n",
        "\n",
        "Given 2 strings, return a single string with the form shorter+longer+shorter.\n",
        "\n",
        "The strings will not be the same length. They may be empty.\n",
        "\n",
        "Optional challenge - Write the logic as a simple one-liner."
      ]
    },
    {
      "cell_type": "code",
      "metadata": {
        "id": "EqbQ1NMfV8bg",
        "colab_type": "code",
        "colab": {
          "base_uri": "https://localhost:8080/",
          "height": 37
        },
        "outputId": "627347ad-03d2-4be2-f2fb-322ae96d76ce"
      },
      "source": [
        "def short_long_short(a: str, b: str) -> str:\n",
        "\n",
        "    return a+b+a if len(a)<len(b) else b+a+b\n",
        "    \n",
        "\n",
        "\n",
        "def test_short_long_short(short_long_short):\n",
        "    \"Tests for `short_long_short` function\"\n",
        "    \n",
        "    assert short_long_short(\"9\", \"11\") == \"9119\"\n",
        "    assert short_long_short(\"11\", \"9\") == \"9119\"\n",
        "    assert short_long_short(\"\", \"9\")   == \"9\"\n",
        "    assert short_long_short(\"\", \"\")    == \"\"\n",
        "    \n",
        "    return \"All tests pass 🙂\"\n",
        "test_short_long_short(short_long_short)"
      ],
      "execution_count": 12,
      "outputs": [
        {
          "output_type": "execute_result",
          "data": {
            "application/vnd.google.colaboratory.intrinsic+json": {
              "type": "string"
            },
            "text/plain": [
              "'All tests pass 🙂'"
            ]
          },
          "metadata": {
            "tags": []
          },
          "execution_count": 12
        }
      ]
    },
    {
      "cell_type": "code",
      "metadata": {
        "id": "U9QH2r5kV8bl",
        "colab_type": "code",
        "colab": {}
      },
      "source": [
        ""
      ],
      "execution_count": null,
      "outputs": []
    },
    {
      "cell_type": "markdown",
      "metadata": {
        "id": "v4UHTpWiV8bq",
        "colab_type": "text"
      },
      "source": [
        "Find The Smallest of 3 Numbers Using Conditional Statements\n",
        "----\n"
      ]
    },
    {
      "cell_type": "code",
      "metadata": {
        "id": "n6QJiFoNV8bq",
        "colab_type": "code",
        "colab": {
          "base_uri": "https://localhost:8080/",
          "height": 37
        },
        "outputId": "bbe6d675-e3f3-43f5-9758-15ff9c8a4d64"
      },
      "source": [
        "from typing import Callable\n",
        "\n",
        "def smallest_of_three(num1: float, num2: float, num3: float) -> float:\n",
        "    \"Return the lowest numeric value of given numbers\"\n",
        "    num_list = [num1, num2, num3]\n",
        "    min_num = num1\n",
        "    for i in range(len(num_list)):\n",
        "      if num_list[i] < min_num:\n",
        "        min_num = num_list[i]\n",
        "        \n",
        "    return min_num    \n",
        "\n",
        "def test_smallest_of_three(smallest_of_three: Callable):\n",
        "    \"Tests for `smallest_of_three` function\"\n",
        "    \n",
        "    num1, num2, num3 = 4, 3, -1\n",
        "    assert smallest_of_three(num1, num2, num3) == min([num1, num2, num3]) == -1\n",
        "    \n",
        "    num1, num2, num3 = 20.5, 10.5, 30.5, \n",
        "    assert smallest_of_three(num1, num2, num3) == min([num1, num2, num3]) == 10.5\n",
        "    \n",
        "    return \"All tests pass 🙂\"\n",
        "\n",
        "test_smallest_of_three(smallest_of_three)"
      ],
      "execution_count": 25,
      "outputs": [
        {
          "output_type": "execute_result",
          "data": {
            "application/vnd.google.colaboratory.intrinsic+json": {
              "type": "string"
            },
            "text/plain": [
              "'All tests pass 🙂'"
            ]
          },
          "metadata": {
            "tags": []
          },
          "execution_count": 25
        }
      ]
    },
    {
      "cell_type": "code",
      "metadata": {
        "id": "BbiizpmHV8bx",
        "colab_type": "code",
        "colab": {}
      },
      "source": [
        ""
      ],
      "execution_count": null,
      "outputs": []
    },
    {
      "cell_type": "markdown",
      "metadata": {
        "id": "mG9aVs05V8b6",
        "colab_type": "text"
      },
      "source": [
        "Fizz Buzz\n",
        "------\n",
        "\n",
        "Write a program that prints the numbers from 1 to 100. But for multiples of three print \"fizz\" instead of the number and for the multiples of five print \"buzz\". For numbers which are multiples of both three and five print \"fizzbuzz\".\n",
        "\n",
        "I used to play it at summer camp. Now it is infamous coding interview problem. You should be aware it because there are many references to it in tech. Also you should have a high quality answer memorized in case it ever comes up in a coding interview.\n"
      ]
    },
    {
      "cell_type": "code",
      "metadata": {
        "id": "3MeiplTCV8b7",
        "colab_type": "code",
        "colab": {
          "base_uri": "https://localhost:8080/",
          "height": 37
        },
        "outputId": "99bf2fe2-fff0-42cf-9f0f-a839232a6670"
      },
      "source": [
        "def fizz_buzz(n: int) -> str:\n",
        "\n",
        "    temp_str = ''\n",
        "    if n%3==0 and n%5==0:\n",
        "        temp_str = \"fizzbuzz\"\n",
        "    elif n%3==0:\n",
        "        temp_str = \"fizz\"\n",
        "    elif n%5==0:\n",
        "        temp_str = \"buzz\"\n",
        "    else:\n",
        "        temp_str = str(n)\n",
        "    \n",
        "    return temp_str\n",
        "\n",
        "\n",
        "def test_fizz_buzz(fizz_buzz):\n",
        "    n = 100\n",
        "\n",
        "    fizz_buzz_solutions = [None, '1', '2', 'fizz', '4', 'buzz', 'fizz', '7', '8', 'fizz', 'buzz', '11', 'fizz', '13', '14', 'fizzbuzz', '16', '17', 'fizz', '19', 'buzz', 'fizz', '22', '23', 'fizz', 'buzz', '26', 'fizz', '28', '29', 'fizzbuzz', '31', '32', 'fizz', '34', 'buzz', 'fizz', '37', '38', 'fizz', 'buzz', '41', 'fizz', '43', '44', 'fizzbuzz', '46', '47', 'fizz', '49', 'buzz', 'fizz', '52', '53', 'fizz', 'buzz', '56', 'fizz', '58', '59', 'fizzbuzz', '61', '62', 'fizz', '64', 'buzz', 'fizz', '67', '68', 'fizz', 'buzz', '71', 'fizz', '73', '74', 'fizzbuzz', '76', '77', 'fizz', '79', 'buzz', 'fizz', '82', '83', 'fizz', 'buzz', '86', 'fizz', '88', '89', 'fizzbuzz', '91', '92', 'fizz', '94', 'buzz', 'fizz', '97', '98', 'fizz', 'buzz']\n",
        "\n",
        "    for i in range(1, n+1):\n",
        "        if fizz_buzz(i) == fizz_buzz_solutions[i]: # Call fizz buzz function; Compare to item in location in list.\n",
        "            continue\n",
        "        else:\n",
        "            return f\"ERROR! At ({i}), predicted: {fizz_buzz_solutions[i]}, actual: {fizz_buzz(i)}\"\n",
        "    return \"All tests pass 🙂\"\n",
        "\n",
        "test_fizz_buzz(fizz_buzz)"
      ],
      "execution_count": 35,
      "outputs": [
        {
          "output_type": "execute_result",
          "data": {
            "application/vnd.google.colaboratory.intrinsic+json": {
              "type": "string"
            },
            "text/plain": [
              "'All tests pass 🙂'"
            ]
          },
          "metadata": {
            "tags": []
          },
          "execution_count": 35
        }
      ]
    },
    {
      "cell_type": "code",
      "metadata": {
        "code_folding": [],
        "id": "cbTRuavCV8b_",
        "colab_type": "code",
        "colab": {}
      },
      "source": [
        ""
      ],
      "execution_count": null,
      "outputs": []
    },
    {
      "cell_type": "markdown",
      "metadata": {
        "id": "ZuqzqIKHV8cF",
        "colab_type": "text"
      },
      "source": [
        "<br>\n",
        "<br> \n",
        "<br>\n",
        "\n",
        "----"
      ]
    }
  ]
}